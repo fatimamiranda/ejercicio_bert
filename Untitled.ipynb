{
 "cells": [
  {
   "cell_type": "code",
   "execution_count": 2,
   "id": "a825a23a-442c-4af5-a361-21e1e87402cb",
   "metadata": {},
   "outputs": [
    {
     "ename": "ModuleNotFoundError",
     "evalue": "No module named 'transformers'",
     "output_type": "error",
     "traceback": [
      "\u001b[1;31m---------------------------------------------------------------------------\u001b[0m",
      "\u001b[1;31mModuleNotFoundError\u001b[0m                       Traceback (most recent call last)",
      "Cell \u001b[1;32mIn[2], line 1\u001b[0m\n\u001b[1;32m----> 1\u001b[0m \u001b[38;5;28;01mfrom\u001b[39;00m \u001b[38;5;21;01mtransformers\u001b[39;00m \u001b[38;5;28;01mimport\u001b[39;00m pipeline\n\u001b[0;32m      2\u001b[0m \u001b[38;5;28;01mimport\u001b[39;00m \u001b[38;5;21;01mgradio\u001b[39;00m \u001b[38;5;28;01mas\u001b[39;00m \u001b[38;5;21;01mgr\u001b[39;00m\n\u001b[0;32m      5\u001b[0m \u001b[38;5;66;03m# Cargar un pipeline de Hugging Face con un modelo BERT para análisis de\u001b[39;00m\n",
      "\u001b[1;31mModuleNotFoundError\u001b[0m: No module named 'transformers'"
     ]
    }
   ],
   "source": [
    "from transformers import pipeline\n",
    "import gradio as gr\n",
    "\n",
    "\n",
    "# Cargar un pipeline de Hugging Face con un modelo BERT para análisis de\n",
    "sentimiento\n",
    "model = pipeline(\"sentiment-analysis\")\n",
    "def predict_sentiment(text):\n",
    "    result = model(text)\n",
    "    # Extraer la etiqueta y la confianza del resultado\n",
    "    label = result[0]['label']\n",
    "    confidence = round(result[0]['score'], 4)\n",
    "    return {label: confidence}\n",
    "# Crear una interfaz de Gradio\n",
    "iface = gr.Interface(fn=predict_sentiment, inputs=\"text\",\n",
    "outputs=\"label\")\n",
    "# Lanzar la interfaz\n",
    "iface.launch()"
   ]
  },
  {
   "cell_type": "code",
   "execution_count": null,
   "id": "58a57b8c-8d86-4e0e-bf6a-55178ad36548",
   "metadata": {},
   "outputs": [],
   "source": []
  }
 ],
 "metadata": {
  "kernelspec": {
   "display_name": "Python 3 (ipykernel)",
   "language": "python",
   "name": "python3"
  },
  "language_info": {
   "codemirror_mode": {
    "name": "ipython",
    "version": 3
   },
   "file_extension": ".py",
   "mimetype": "text/x-python",
   "name": "python",
   "nbconvert_exporter": "python",
   "pygments_lexer": "ipython3",
   "version": "3.11.8"
  }
 },
 "nbformat": 4,
 "nbformat_minor": 5
}
